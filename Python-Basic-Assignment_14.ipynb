{
 "cells": [
  {
   "cell_type": "markdown",
   "id": "a11eebbb",
   "metadata": {},
   "source": [
    "## 1. What does RGBA stand for?"
   ]
  },
  {
   "cell_type": "markdown",
   "id": "47195209",
   "metadata": {},
   "source": [
    "## Ans:"
   ]
  },
  {
   "cell_type": "markdown",
   "id": "9b1b07b4",
   "metadata": {},
   "source": [
    "An RGBA value is a tuple of 4 integers, each ranging from 0 to 255. The four integers correspond to the amount of red, green, blue, and alpha (transparency) in the color."
   ]
  },
  {
   "cell_type": "markdown",
   "id": "5842d099",
   "metadata": {},
   "source": [
    "## 2. From the Pillow module, how do you get the RGBA value of any images?"
   ]
  },
  {
   "cell_type": "markdown",
   "id": "62c832f1",
   "metadata": {},
   "source": [
    "## Ans:"
   ]
  },
  {
   "cell_type": "markdown",
   "id": "8075b243",
   "metadata": {},
   "source": [
    "from PIL import ImageColor\n",
    "\n",
    "ImageColor.getcolor(color_name, 'RGBA')"
   ]
  },
  {
   "cell_type": "markdown",
   "id": "f829625f",
   "metadata": {},
   "source": [
    "## 3. What is a box tuple, and how does it work?"
   ]
  },
  {
   "cell_type": "markdown",
   "id": "7d7dd944",
   "metadata": {},
   "source": [
    "## Ans:"
   ]
  },
  {
   "cell_type": "markdown",
   "id": "dd3dd7c0",
   "metadata": {},
   "source": [
    "Many Pillow's function take box tuple argument. This means pillow is taking a tuple of four integer coordinates that expecting a rectangular region in image. The four integers are in order left, top, right, bottom."
   ]
  },
  {
   "cell_type": "markdown",
   "id": "4826ee25",
   "metadata": {},
   "source": [
    "## 4. Use your image and load in notebook then, How can you find out the width and height of an\n",
    "Image object?"
   ]
  },
  {
   "cell_type": "markdown",
   "id": "5669cc62",
   "metadata": {},
   "source": [
    "## Ans:"
   ]
  },
  {
   "cell_type": "markdown",
   "id": "8e9bdd4d",
   "metadata": {},
   "source": [
    "from PIL import Image\n",
    "im=Image.open(\"aishu.jpg\")\n",
    "width, height = im.size\n",
    "print(\"width=\", width)\n",
    "print(\"height=\", height)"
   ]
  },
  {
   "cell_type": "markdown",
   "id": "8f718f75",
   "metadata": {},
   "source": [
    "## 5. What method would you call to get Image object for a 100×100 image, excluding the lower-left quarter of it?"
   ]
  },
  {
   "cell_type": "markdown",
   "id": "b9402e1f",
   "metadata": {},
   "source": [
    "# #Ans:"
   ]
  },
  {
   "cell_type": "markdown",
   "id": "0f99f90e",
   "metadata": {},
   "source": [
    "imageObj.crop((0, 50, 50, 50)). Notice that you are passing a box tuple to crop(), not four separate integer arguments."
   ]
  },
  {
   "cell_type": "markdown",
   "id": "e4c7c85e",
   "metadata": {},
   "source": [
    "## 6. After making changes to an Image object, how could you save it as an image file?"
   ]
  },
  {
   "cell_type": "markdown",
   "id": "06ba4f75",
   "metadata": {},
   "source": [
    "## Ans:"
   ]
  },
  {
   "cell_type": "markdown",
   "id": "c47ef8ca",
   "metadata": {},
   "source": [
    "By Calling the imageObj.save('new_filename.png') method of the Image object."
   ]
  },
  {
   "cell_type": "markdown",
   "id": "7a1eaa24",
   "metadata": {},
   "source": [
    "## 7. What module contains Pillow’s shape-drawing code?"
   ]
  },
  {
   "cell_type": "markdown",
   "id": "9b7435f1",
   "metadata": {},
   "source": [
    "## Ans:"
   ]
  },
  {
   "cell_type": "markdown",
   "id": "8275f44d",
   "metadata": {},
   "source": [
    " The ImageDraw module contains code to draw on images"
   ]
  },
  {
   "cell_type": "markdown",
   "id": "47238b20",
   "metadata": {},
   "source": [
    "## 8. Image objects do not have drawing methods. What kind of object does? How do you get this kind\n",
    "of object?"
   ]
  },
  {
   "cell_type": "markdown",
   "id": "d4f9d072",
   "metadata": {},
   "source": [
    "## Ans:"
   ]
  },
  {
   "cell_type": "markdown",
   "id": "76ff93ec",
   "metadata": {},
   "source": [
    "ImageDraw objects have shape-drawing methods such as point(), line(), or rectangle(). They are returned by passing the Image object to the ImageDraw.Draw() function"
   ]
  }
 ],
 "metadata": {
  "kernelspec": {
   "display_name": "Python 3 (ipykernel)",
   "language": "python",
   "name": "python3"
  },
  "language_info": {
   "codemirror_mode": {
    "name": "ipython",
    "version": 3
   },
   "file_extension": ".py",
   "mimetype": "text/x-python",
   "name": "python",
   "nbconvert_exporter": "python",
   "pygments_lexer": "ipython3",
   "version": "3.9.7"
  }
 },
 "nbformat": 4,
 "nbformat_minor": 5
}
