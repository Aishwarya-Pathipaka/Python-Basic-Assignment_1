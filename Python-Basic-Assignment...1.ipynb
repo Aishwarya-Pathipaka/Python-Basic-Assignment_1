{
 "cells": [
  {
   "cell_type": "markdown",
   "id": "3ffd8db0",
   "metadata": {},
   "source": [
    "## Question 1:In the below elements which of them are values or an expression? eg:- values can be integer or string and expressions will be mathematical operators.\n",
    "* \n",
    "'hello'\n",
    "-87.8\n",
    "- \n",
    "/ \n",
    "+\n",
    "6 "
   ]
  },
  {
   "cell_type": "markdown",
   "id": "9024a450",
   "metadata": {},
   "source": [
    "## Ans:\n",
    "In the above elements      *  is an expression\n",
    "                       \n",
    "                       'hello' is a Vaue                        \n",
    "                       -87.8   is a Value                          \n",
    "                       -       is an expression                           \n",
    "                       /       is an expression                           \n",
    "                       +   \t  is an expression                           \n",
    "                       6       is a Value"
   ]
  },
  {
   "cell_type": "markdown",
   "id": "d29a523c",
   "metadata": {},
   "source": [
    "##  2. What is the difference between string and variable?"
   ]
  },
  {
   "cell_type": "markdown",
   "id": "37e18397",
   "metadata": {},
   "source": [
    "## Ans: \n",
    "String is a datatype wheras the variable is the memory location that stores the data.String is usually represented in double quotes(\"\") or else single quotes('').Anything that is enclosed in these quotes represents a string. Variable can contain numbers,alphabets and underscores.It should not contain spaces and the name of the variable cant be started with a number.\n",
    "Variable can store the value of any data type(Ex:String,list,set,tuple)\n",
    "\n",
    "Ex for Variable = abc=10, Here abc is a variable which stores the value 10.\n"
   ]
  },
  {
   "cell_type": "code",
   "execution_count": 52,
   "id": "016a2e2e",
   "metadata": {},
   "outputs": [],
   "source": [
    "#Example for string\n",
    "a=\"aish\""
   ]
  },
  {
   "cell_type": "code",
   "execution_count": 53,
   "id": "0f6a4490",
   "metadata": {},
   "outputs": [
    {
     "data": {
      "text/plain": [
       "str"
      ]
     },
     "execution_count": 53,
     "metadata": {},
     "output_type": "execute_result"
    }
   ],
   "source": [
    "type(a)"
   ]
  },
  {
   "cell_type": "markdown",
   "id": "44a33649",
   "metadata": {},
   "source": [
    "## 3. Describe three different data types."
   ]
  },
  {
   "cell_type": "markdown",
   "id": "2408d47d",
   "metadata": {},
   "source": [
    "## Ans:\n",
    "    Three data types: string,list,tuple"
   ]
  },
  {
   "cell_type": "markdown",
   "id": "c164a88e",
   "metadata": {},
   "source": [
    "1. String:Set of characters usually enclosed in double quotes(\"\") or else single quotes('')."
   ]
  },
  {
   "cell_type": "code",
   "execution_count": 54,
   "id": "67f93172",
   "metadata": {},
   "outputs": [],
   "source": [
    "b=\"This is my first assignment\""
   ]
  },
  {
   "cell_type": "code",
   "execution_count": 55,
   "id": "46a6f282",
   "metadata": {},
   "outputs": [
    {
     "data": {
      "text/plain": [
       "str"
      ]
     },
     "execution_count": 55,
     "metadata": {},
     "output_type": "execute_result"
    }
   ],
   "source": [
    "type(b)"
   ]
  },
  {
   "cell_type": "markdown",
   "id": "efa640f1",
   "metadata": {},
   "source": [
    "2. List : Values seperated by commas enclosed in square brackets.Values can be integers,strings,complex numbers etc.Lists  are mutable."
   ]
  },
  {
   "cell_type": "code",
   "execution_count": 56,
   "id": "4362c707",
   "metadata": {},
   "outputs": [],
   "source": [
    "c=[1,2,3,4,\"abc\",9+8j]"
   ]
  },
  {
   "cell_type": "code",
   "execution_count": 57,
   "id": "6487530c",
   "metadata": {},
   "outputs": [
    {
     "data": {
      "text/plain": [
       "list"
      ]
     },
     "execution_count": 57,
     "metadata": {},
     "output_type": "execute_result"
    }
   ],
   "source": [
    "type(c)"
   ]
  },
  {
   "cell_type": "markdown",
   "id": "471ce7f1",
   "metadata": {},
   "source": [
    "3. Tuple: Values seperated by commas enclosed in parentheses.Tuples are immutable."
   ]
  },
  {
   "cell_type": "code",
   "execution_count": 58,
   "id": "8c253b0b",
   "metadata": {},
   "outputs": [],
   "source": [
    "d=(1,2,3,44,55,\"abv\")"
   ]
  },
  {
   "cell_type": "code",
   "execution_count": 59,
   "id": "a89a5b8b",
   "metadata": {},
   "outputs": [
    {
     "data": {
      "text/plain": [
       "tuple"
      ]
     },
     "execution_count": 59,
     "metadata": {},
     "output_type": "execute_result"
    }
   ],
   "source": [
    "type(d)"
   ]
  },
  {
   "cell_type": "markdown",
   "id": "dc0fb5cd",
   "metadata": {},
   "source": [
    "## 4. What is an expression made up of? What do all expressions do?"
   ]
  },
  {
   "cell_type": "markdown",
   "id": "4fa1d4b9",
   "metadata": {},
   "source": [
    "## Ans:\n",
    "    An expression is a combination of numbers/values,variables and mathematical operators,which together evaluates another \n",
    "    value."
   ]
  },
  {
   "cell_type": "code",
   "execution_count": 60,
   "id": "dd0e6bd3",
   "metadata": {},
   "outputs": [],
   "source": [
    "#Example of expression\n",
    "e=13+12"
   ]
  },
  {
   "cell_type": "code",
   "execution_count": 61,
   "id": "14eb1d88",
   "metadata": {},
   "outputs": [
    {
     "data": {
      "text/plain": [
       "25"
      ]
     },
     "execution_count": 61,
     "metadata": {},
     "output_type": "execute_result"
    }
   ],
   "source": [
    "e"
   ]
  },
  {
   "cell_type": "markdown",
   "id": "d8c9554d",
   "metadata": {},
   "source": [
    " Here 12 &13 are values and + is operator.They together gave the value as 25."
   ]
  },
  {
   "cell_type": "markdown",
   "id": "1c98d4b0",
   "metadata": {},
   "source": [
    "## 5. This assignment statements, like spam = 10. What is the difference between an expression and a statement?"
   ]
  },
  {
   "cell_type": "markdown",
   "id": "4b65c46c",
   "metadata": {},
   "source": [
    "## Ans:\n",
    "    Assignment statements assign a value to the variable.In spam = 10 , value 10 in assigned to spam, and now spam will have value 10."
   ]
  },
  {
   "cell_type": "markdown",
   "id": "4acf420d",
   "metadata": {},
   "source": [
    "    Assignment statements assign a value to the variable whereas An Expression gives some value by performing some operations with operators and values.\n",
    "    Ex: i=24*8 gives 192."
   ]
  },
  {
   "cell_type": "code",
   "execution_count": 62,
   "id": "378cd27b",
   "metadata": {},
   "outputs": [],
   "source": [
    "i=24*8"
   ]
  },
  {
   "cell_type": "code",
   "execution_count": 63,
   "id": "0de823f6",
   "metadata": {},
   "outputs": [
    {
     "data": {
      "text/plain": [
       "192"
      ]
     },
     "execution_count": 63,
     "metadata": {},
     "output_type": "execute_result"
    }
   ],
   "source": [
    "i"
   ]
  },
  {
   "cell_type": "markdown",
   "id": "5bfdd2e3",
   "metadata": {},
   "source": [
    "## 6. After running the following code, what does the variable bacon contain?\n",
    "## bacon = 22\n",
    "## bacon + 1"
   ]
  },
  {
   "cell_type": "code",
   "execution_count": 64,
   "id": "56d6f896",
   "metadata": {},
   "outputs": [],
   "source": [
    "bacon=22"
   ]
  },
  {
   "cell_type": "code",
   "execution_count": 65,
   "id": "75870448",
   "metadata": {},
   "outputs": [
    {
     "data": {
      "text/plain": [
       "23"
      ]
     },
     "execution_count": 65,
     "metadata": {},
     "output_type": "execute_result"
    }
   ],
   "source": [
    "bacon+1"
   ]
  },
  {
   "cell_type": "code",
   "execution_count": 66,
   "id": "330f458c",
   "metadata": {},
   "outputs": [
    {
     "data": {
      "text/plain": [
       "22"
      ]
     },
     "execution_count": 66,
     "metadata": {},
     "output_type": "execute_result"
    }
   ],
   "source": [
    "bacon"
   ]
  },
  {
   "cell_type": "markdown",
   "id": "e3197078",
   "metadata": {},
   "source": [
    "The value of the bacon remains same because bacon+1 is not reassigned to bacon again(bacon= bacon + 1)."
   ]
  },
  {
   "cell_type": "markdown",
   "id": "dcc31a49",
   "metadata": {},
   "source": [
    "## 7. What should the values of the following two terms be?\n",
    "## 'spam' + 'spamspam'\n",
    "## 'spam' * 3"
   ]
  },
  {
   "cell_type": "code",
   "execution_count": 67,
   "id": "a6f93cc6",
   "metadata": {},
   "outputs": [
    {
     "data": {
      "text/plain": [
       "'spamspamspam'"
      ]
     },
     "execution_count": 67,
     "metadata": {},
     "output_type": "execute_result"
    }
   ],
   "source": [
    "'spam'+'spamspam'"
   ]
  },
  {
   "cell_type": "code",
   "execution_count": 68,
   "id": "abea3e26",
   "metadata": {},
   "outputs": [
    {
     "data": {
      "text/plain": [
       "'spamspamspam'"
      ]
     },
     "execution_count": 68,
     "metadata": {},
     "output_type": "execute_result"
    }
   ],
   "source": [
    "'spam'*3"
   ]
  },
  {
   "cell_type": "markdown",
   "id": "8bc2058e",
   "metadata": {},
   "source": [
    "Both the expression gives same result 'spamspamspam'"
   ]
  },
  {
   "cell_type": "markdown",
   "id": "79a069ef",
   "metadata": {},
   "source": [
    "## 8. Why is eggs a valid variable name while 100 is invalid?"
   ]
  },
  {
   "cell_type": "markdown",
   "id": "dbb144a5",
   "metadata": {},
   "source": [
    "## Ans: \n",
    "    eggs is a valid variable name because it contain all alphabets which is allowable. 100 is a invalid variable name because  variable name cannot start with a number."
   ]
  },
  {
   "cell_type": "markdown",
   "id": "1cfd1a85",
   "metadata": {},
   "source": [
    "## 9. What three functions can be used to get the integer, floating-point number, or string version of a value?"
   ]
  },
  {
   "cell_type": "markdown",
   "id": "4b06123f",
   "metadata": {},
   "source": [
    "## Ans: \n",
    "    Function used to get the integer version of a value:int()\n",
    "    Function used to get the floating-point number version of a value:float()\n",
    "    Function used to get the string version of a value:str()"
   ]
  },
  {
   "cell_type": "markdown",
   "id": "04f55078",
   "metadata": {},
   "source": [
    "## 10. Why does this expression cause an error? How can you fix it?\n",
    "## 'I have eaten ' + 99 + ' burritos."
   ]
  },
  {
   "cell_type": "markdown",
   "id": "57ea4777",
   "metadata": {},
   "source": [
    "## Ans: \n",
    "It causes an error because strings can't be concatinated with integer.In order to fix this issue we have to convert 99 to string."
   ]
  },
  {
   "cell_type": "code",
   "execution_count": 69,
   "id": "4a603527",
   "metadata": {},
   "outputs": [
    {
     "data": {
      "text/plain": [
       "'I have eaten 99 burritos.'"
      ]
     },
     "execution_count": 69,
     "metadata": {},
     "output_type": "execute_result"
    }
   ],
   "source": [
    "'I have eaten ' + str(99) + ' burritos.'"
   ]
  },
  {
   "cell_type": "code",
   "execution_count": 70,
   "id": "353dc697",
   "metadata": {},
   "outputs": [
    {
     "data": {
      "text/plain": [
       "'I have eaten 99 burritos.'"
      ]
     },
     "execution_count": 70,
     "metadata": {},
     "output_type": "execute_result"
    }
   ],
   "source": [
    "#This can be done in another way also.I.e, by adding double quotes to 99.\n",
    "'I have eaten ' + \"99\" + ' burritos.'"
   ]
  },
  {
   "cell_type": "code",
   "execution_count": null,
   "id": "e5a36686",
   "metadata": {},
   "outputs": [],
   "source": []
  }
 ],
 "metadata": {
  "kernelspec": {
   "display_name": "Python 3 (ipykernel)",
   "language": "python",
   "name": "python3"
  },
  "language_info": {
   "codemirror_mode": {
    "name": "ipython",
    "version": 3
   },
   "file_extension": ".py",
   "mimetype": "text/x-python",
   "name": "python",
   "nbconvert_exporter": "python",
   "pygments_lexer": "ipython3",
   "version": "3.9.7"
  }
 },
 "nbformat": 4,
 "nbformat_minor": 5
}
