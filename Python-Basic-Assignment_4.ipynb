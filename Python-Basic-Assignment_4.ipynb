{
 "cells": [
  {
   "cell_type": "markdown",
   "id": "dcdc2d03",
   "metadata": {},
   "source": [
    "## 1. What exactly is []?"
   ]
  },
  {
   "cell_type": "markdown",
   "id": "c7858ce5",
   "metadata": {},
   "source": [
    "## Ans \n",
    "[] is a emplty list, like a =[]"
   ]
  },
  {
   "cell_type": "markdown",
   "id": "1bf1c548",
   "metadata": {},
   "source": [
    "## 2. In a list of values stored in a variable called spam, how would you assign the value 'hello' as the third value? (Assume [2, 4, 6, 8, 10] are in spam.)\n"
   ]
  },
  {
   "cell_type": "markdown",
   "id": "4a7a08fe",
   "metadata": {},
   "source": [
    "## Ans \n",
    "Assigning a value at third place,means at index 2.spam[2]='hello'"
   ]
  },
  {
   "cell_type": "code",
   "execution_count": 1,
   "id": "c7a29f6b",
   "metadata": {},
   "outputs": [],
   "source": [
    "spam = [2, 4, 6, 8, 10]"
   ]
  },
  {
   "cell_type": "code",
   "execution_count": 2,
   "id": "b450a904",
   "metadata": {},
   "outputs": [],
   "source": [
    "spam[2]='hello'"
   ]
  },
  {
   "cell_type": "code",
   "execution_count": 3,
   "id": "d4d0eda9",
   "metadata": {},
   "outputs": [
    {
     "data": {
      "text/plain": [
       "[2, 4, 'hello', 8, 10]"
      ]
     },
     "execution_count": 3,
     "metadata": {},
     "output_type": "execute_result"
    }
   ],
   "source": [
    "spam"
   ]
  },
  {
   "cell_type": "markdown",
   "id": "30826491",
   "metadata": {},
   "source": [
    "## Let's pretend the spam includes the list ['a', 'b', 'c', 'd'] for the next three queries."
   ]
  },
  {
   "cell_type": "markdown",
   "id": "16ccc57f",
   "metadata": {},
   "source": [
    "## 3. What is the value of spam[int(int('3' * 2) / 11)]?"
   ]
  },
  {
   "cell_type": "markdown",
   "id": "403771c1",
   "metadata": {},
   "source": [
    "## Ans:"
   ]
  },
  {
   "cell_type": "code",
   "execution_count": 4,
   "id": "ccd2c553",
   "metadata": {},
   "outputs": [],
   "source": [
    "spam=['a', 'b', 'c', 'd']"
   ]
  },
  {
   "cell_type": "code",
   "execution_count": 5,
   "id": "3fea2cef",
   "metadata": {},
   "outputs": [
    {
     "data": {
      "text/plain": [
       "'d'"
      ]
     },
     "execution_count": 5,
     "metadata": {},
     "output_type": "execute_result"
    }
   ],
   "source": [
    "spam[int(int('3' * 2) / 11)]"
   ]
  },
  {
   "cell_type": "markdown",
   "id": "5758ae3b",
   "metadata": {},
   "source": [
    "## 4. What is the value of spam[-1]?"
   ]
  },
  {
   "cell_type": "markdown",
   "id": "2dbe3a33",
   "metadata": {},
   "source": [
    "## Ans"
   ]
  },
  {
   "cell_type": "code",
   "execution_count": 6,
   "id": "052fe01f",
   "metadata": {},
   "outputs": [
    {
     "data": {
      "text/plain": [
       "'d'"
      ]
     },
     "execution_count": 6,
     "metadata": {},
     "output_type": "execute_result"
    }
   ],
   "source": [
    "spam=['a', 'b', 'c', 'd']\n",
    "spam[-1]"
   ]
  },
  {
   "cell_type": "markdown",
   "id": "1bd7dab4",
   "metadata": {},
   "source": [
    "## 5. What is the value of spam[:2]?"
   ]
  },
  {
   "cell_type": "markdown",
   "id": "e5aa398e",
   "metadata": {},
   "source": [
    "## Ans "
   ]
  },
  {
   "cell_type": "code",
   "execution_count": 7,
   "id": "20b6f0dd",
   "metadata": {},
   "outputs": [
    {
     "data": {
      "text/plain": [
       "['a', 'b']"
      ]
     },
     "execution_count": 7,
     "metadata": {},
     "output_type": "execute_result"
    }
   ],
   "source": [
    "spam=['a', 'b', 'c', 'd']\n",
    "spam[:2]"
   ]
  },
  {
   "cell_type": "markdown",
   "id": "eb110fbf",
   "metadata": {},
   "source": [
    "## Let's pretend bacon has the list [3.14, 'cat,' 11, 'cat,' True] for the next three questions."
   ]
  },
  {
   "cell_type": "markdown",
   "id": "e26cd2c0",
   "metadata": {},
   "source": [
    "## 6. What is the value of bacon.index('cat')?"
   ]
  },
  {
   "cell_type": "markdown",
   "id": "762d7fbb",
   "metadata": {},
   "source": [
    "## Ans \n",
    "      It returns the index of first occurrence of 'cat'"
   ]
  },
  {
   "cell_type": "code",
   "execution_count": 8,
   "id": "d67b615b",
   "metadata": {},
   "outputs": [
    {
     "data": {
      "text/plain": [
       "1"
      ]
     },
     "execution_count": 8,
     "metadata": {},
     "output_type": "execute_result"
    }
   ],
   "source": [
    "bacon=[3.14, 'cat', 11, 'cat', True]\n",
    "bacon.index('cat')"
   ]
  },
  {
   "cell_type": "markdown",
   "id": "782195c3",
   "metadata": {},
   "source": [
    "## 7. How does bacon.append(99) change the look of the list value in bacon?"
   ]
  },
  {
   "cell_type": "markdown",
   "id": "75bb23a7",
   "metadata": {},
   "source": [
    " ## Ans \n",
    "          append adds the item at the end of the list."
   ]
  },
  {
   "cell_type": "code",
   "execution_count": 9,
   "id": "66d9cc3e",
   "metadata": {},
   "outputs": [
    {
     "data": {
      "text/plain": [
       "[3.14, 'cat', 11, 'cat', True, 99]"
      ]
     },
     "execution_count": 9,
     "metadata": {},
     "output_type": "execute_result"
    }
   ],
   "source": [
    "bacon=[3.14, 'cat', 11, 'cat', True]\n",
    "bacon.append(99)\n",
    "bacon"
   ]
  },
  {
   "cell_type": "markdown",
   "id": "fcf213a6",
   "metadata": {},
   "source": [
    "## 8. How does bacon.remove('cat') change the look of the list in bacon?"
   ]
  },
  {
   "cell_type": "markdown",
   "id": "a037bc4a",
   "metadata": {},
   "source": [
    "## Ans \n",
    "      remove first occurrence of 'cat'"
   ]
  },
  {
   "cell_type": "code",
   "execution_count": 10,
   "id": "9f9f2627",
   "metadata": {},
   "outputs": [
    {
     "data": {
      "text/plain": [
       "[3.14, 11, 'cat', True]"
      ]
     },
     "execution_count": 10,
     "metadata": {},
     "output_type": "execute_result"
    }
   ],
   "source": [
    "bacon=[3.14, 'cat', 11, 'cat', True]\n",
    "bacon.remove('cat')\n",
    "bacon"
   ]
  },
  {
   "cell_type": "markdown",
   "id": "79666afc",
   "metadata": {},
   "source": [
    "## 9. What are the list concatenation and list replication operators?"
   ]
  },
  {
   "cell_type": "markdown",
   "id": "b8627f6a",
   "metadata": {},
   "source": [
    "## Ans \n",
    "         Operator used for list concatenation is +, whereas operator used for list replication is *."
   ]
  },
  {
   "cell_type": "code",
   "execution_count": 11,
   "id": "7252069d",
   "metadata": {},
   "outputs": [],
   "source": [
    "a=[1,2,'aishu',4,5]\n",
    "b=[7,8,9,'pathipaka',7]"
   ]
  },
  {
   "cell_type": "code",
   "execution_count": 12,
   "id": "9adb9192",
   "metadata": {},
   "outputs": [
    {
     "data": {
      "text/plain": [
       "[1, 2, 'aishu', 4, 5, 7, 8, 9, 'pathipaka', 7]"
      ]
     },
     "execution_count": 12,
     "metadata": {},
     "output_type": "execute_result"
    }
   ],
   "source": [
    "#concatenation\n",
    "a+b"
   ]
  },
  {
   "cell_type": "code",
   "execution_count": 13,
   "id": "5756d7af",
   "metadata": {},
   "outputs": [
    {
     "data": {
      "text/plain": [
       "[1, 2, 'aishu', 4, 5, 1, 2, 'aishu', 4, 5]"
      ]
     },
     "execution_count": 13,
     "metadata": {},
     "output_type": "execute_result"
    }
   ],
   "source": [
    "#replication\n",
    "a*2"
   ]
  },
  {
   "cell_type": "markdown",
   "id": "78648db8",
   "metadata": {},
   "source": [
    "## 10. What is difference between the list methods append() and insert()?"
   ]
  },
  {
   "cell_type": "markdown",
   "id": "51864439",
   "metadata": {},
   "source": [
    "## Ans \n",
    "         Append inserts an element to the end of the list, whereas insert method make use of index parameter to insert an element in the list."
   ]
  },
  {
   "cell_type": "markdown",
   "id": "e313dc0d",
   "metadata": {},
   "source": [
    "## 11. What are the two methods for removing items from a list?"
   ]
  },
  {
   "cell_type": "markdown",
   "id": "1cffeedc",
   "metadata": {},
   "source": [
    "## Ans \n",
    "        remove(item) - removeds first occurence of a item\n",
    "        \n",
    "        pop() - Remove and returns item at index (default last)."
   ]
  },
  {
   "cell_type": "code",
   "execution_count": 14,
   "id": "120802e4",
   "metadata": {},
   "outputs": [
    {
     "data": {
      "text/plain": [
       "['cat', 12, 213.23, 'dog']"
      ]
     },
     "execution_count": 14,
     "metadata": {},
     "output_type": "execute_result"
    }
   ],
   "source": [
    "list1 = ['cat', 12, True, 213.23, \"dog\"]\n",
    "list1.remove(True)\n",
    "list1"
   ]
  },
  {
   "cell_type": "markdown",
   "id": "995cf3e3",
   "metadata": {},
   "source": [
    "## 12. Describe how list values and string values are identical.\n"
   ]
  },
  {
   "cell_type": "markdown",
   "id": "12d00f58",
   "metadata": {},
   "source": [
    "## Ans \n",
    "     Both lists and strings can be passed to len().Both Have indexes and slicing.Both Can be used in for loops.Both Can be concatenated or replicated.Both Can be used with the in and not in operators"
   ]
  },
  {
   "cell_type": "markdown",
   "id": "82245f44",
   "metadata": {},
   "source": [
    "## 13. What's the difference between tuples and lists?"
   ]
  },
  {
   "cell_type": "markdown",
   "id": "fa60bb19",
   "metadata": {},
   "source": [
    "## Ans \n",
    "Lists :\n",
    "are mutable - they can have values added, removed, or changed. \n",
    "lists use the square brackets, []\n",
    "Tuples :\n",
    "are immutable; they cannot be changed at all. \n",
    "Tuples are written using parentheses, ()  "
   ]
  },
  {
   "cell_type": "markdown",
   "id": "ab4c9216",
   "metadata": {},
   "source": [
    "## 14. How do you type a tuple value that only contains the integer 42?"
   ]
  },
  {
   "cell_type": "markdown",
   "id": "78f10053",
   "metadata": {},
   "source": [
    "## Ans "
   ]
  },
  {
   "cell_type": "code",
   "execution_count": 15,
   "id": "6a56e580",
   "metadata": {},
   "outputs": [
    {
     "data": {
      "text/plain": [
       "(42,)"
      ]
     },
     "execution_count": 15,
     "metadata": {},
     "output_type": "execute_result"
    }
   ],
   "source": [
    "tup=(42,)\n",
    "tup"
   ]
  },
  {
   "cell_type": "code",
   "execution_count": 16,
   "id": "c7f3ba35",
   "metadata": {},
   "outputs": [
    {
     "data": {
      "text/plain": [
       "tuple"
      ]
     },
     "execution_count": 16,
     "metadata": {},
     "output_type": "execute_result"
    }
   ],
   "source": [
    "type(tup)"
   ]
  },
  {
   "cell_type": "markdown",
   "id": "f5d9324f",
   "metadata": {},
   "source": [
    "## 15. How do you get a list value's tuple form? How do you get a tuple value's list form?"
   ]
  },
  {
   "cell_type": "markdown",
   "id": "cc5d561d",
   "metadata": {},
   "source": [
    "## Ans \n",
    "        By using tuple() and list() functions"
   ]
  },
  {
   "cell_type": "code",
   "execution_count": 17,
   "id": "43b242ec",
   "metadata": {},
   "outputs": [
    {
     "data": {
      "text/plain": [
       "(1, 2, 3, 4, 5)"
      ]
     },
     "execution_count": 17,
     "metadata": {},
     "output_type": "execute_result"
    }
   ],
   "source": [
    "a=[1,2,3,4,5]\n",
    "tuple(a)"
   ]
  },
  {
   "cell_type": "code",
   "execution_count": 18,
   "id": "49af1d66",
   "metadata": {},
   "outputs": [
    {
     "data": {
      "text/plain": [
       "[1, 2, 3, 4, 5]"
      ]
     },
     "execution_count": 18,
     "metadata": {},
     "output_type": "execute_result"
    }
   ],
   "source": [
    "a=(1,2,3,4,5)\n",
    "list(a)\n"
   ]
  },
  {
   "cell_type": "markdown",
   "id": "856295bc",
   "metadata": {},
   "source": [
    "## 16. Variables that \"contain\" list values are not necessarily lists themselves. Instead, what do they contain?"
   ]
  },
  {
   "cell_type": "markdown",
   "id": "686edc4a",
   "metadata": {},
   "source": [
    "## Ans\n",
    "       They contain references to list values"
   ]
  },
  {
   "cell_type": "markdown",
   "id": "8fa43729",
   "metadata": {},
   "source": [
    "## 17. How do you distinguish between copy.copy() and copy.deepcopy()?"
   ]
  },
  {
   "cell_type": "markdown",
   "id": "b51e5003",
   "metadata": {},
   "source": [
    "## Ans \n",
    "        The copy.copy() function will do a shallow copy of a list, \n",
    "        The copy.deepcopy() function will do a deep copy of a list. only copy.deepcopy() will duplicate any lists inside the list"
   ]
  }
 ],
 "metadata": {
  "kernelspec": {
   "display_name": "Python 3 (ipykernel)",
   "language": "python",
   "name": "python3"
  },
  "language_info": {
   "codemirror_mode": {
    "name": "ipython",
    "version": 3
   },
   "file_extension": ".py",
   "mimetype": "text/x-python",
   "name": "python",
   "nbconvert_exporter": "python",
   "pygments_lexer": "ipython3",
   "version": "3.9.7"
  }
 },
 "nbformat": 4,
 "nbformat_minor": 5
}
