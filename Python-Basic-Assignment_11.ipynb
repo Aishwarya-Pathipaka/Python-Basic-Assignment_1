{
 "cells": [
  {
   "cell_type": "markdown",
   "id": "39be83bb",
   "metadata": {},
   "source": [
    "## 1. Create an assert statement that throws an AssertionError if the variable spam is a negative integer."
   ]
  },
  {
   "cell_type": "markdown",
   "id": "cb2359ea",
   "metadata": {},
   "source": [
    "## Ans: "
   ]
  },
  {
   "cell_type": "markdown",
   "id": "4b245bd7",
   "metadata": {},
   "source": [
    "assert spam > 0, \"Negative not allowed!\""
   ]
  },
  {
   "cell_type": "markdown",
   "id": "e89baac1",
   "metadata": {},
   "source": [
    "## 2.Write an assert statement that triggers an AssertionError if the variables eggs and bacon contain strings that are the same as each other, even if their cases are different (that is, 'hello' and 'hello' are considered the same, and 'goodbye' and 'GOODbye' are also considered the same).\n"
   ]
  },
  {
   "cell_type": "markdown",
   "id": "9fcbec9c",
   "metadata": {},
   "source": [
    "## Ans: "
   ]
  },
  {
   "cell_type": "markdown",
   "id": "ae04988e",
   "metadata": {},
   "source": [
    "assert eggs.lower()!=bacon.lower(), \"eggs and bacon shouldn't be same!\""
   ]
  },
  {
   "cell_type": "markdown",
   "id": "d95e7126",
   "metadata": {},
   "source": [
    "## 3. Create an assert statement that throws an AssertionError every time."
   ]
  },
  {
   "cell_type": "markdown",
   "id": "42aae6b3",
   "metadata": {},
   "source": [
    "## Ans: "
   ]
  },
  {
   "cell_type": "markdown",
   "id": "43982356",
   "metadata": {},
   "source": [
    "assert False, 'This assertion always triggers.'"
   ]
  },
  {
   "cell_type": "markdown",
   "id": "43839f3f",
   "metadata": {},
   "source": [
    "## 4. What are the two lines that must be present in your software in order to call logging.debug()?"
   ]
  },
  {
   "cell_type": "markdown",
   "id": "adfd1a79",
   "metadata": {},
   "source": [
    "## Ans: "
   ]
  },
  {
   "cell_type": "markdown",
   "id": "430b419e",
   "metadata": {},
   "source": [
    "import logging\n",
    "logging.basicConfig(fiename, level=logging.DEBUG)"
   ]
  },
  {
   "cell_type": "markdown",
   "id": "c282a3d4",
   "metadata": {},
   "source": [
    "## 5. What are the two lines that your program must have in order to have logging.debug() send a logging message to a file named programLog.txt?"
   ]
  },
  {
   "cell_type": "markdown",
   "id": "6759eb15",
   "metadata": {},
   "source": [
    "## Ans: "
   ]
  },
  {
   "cell_type": "markdown",
   "id": "8bf1d22e",
   "metadata": {},
   "source": [
    "import logging\n",
    "\n",
    "logging.basicConfig(filename='programLog.txt', level=logging.DEBUG, format=' %(asctime)s - %(levelname)s - %(message)s')"
   ]
  },
  {
   "cell_type": "markdown",
   "id": "d0ed8324",
   "metadata": {},
   "source": [
    "## 6. What are the five levels of logging?"
   ]
  },
  {
   "cell_type": "markdown",
   "id": "9de30977",
   "metadata": {},
   "source": [
    "## Ans: "
   ]
  },
  {
   "cell_type": "markdown",
   "id": "5b2f27bb",
   "metadata": {},
   "source": [
    "logging.error()\n",
    "\n",
    "logging.warning()\n",
    "\n",
    "logging.info()\n",
    "\n",
    "logging.critical()\n",
    "\n",
    "logging.debug()"
   ]
  },
  {
   "cell_type": "markdown",
   "id": "abf45407",
   "metadata": {},
   "source": [
    "## 7. What line of code would you add to your software to disable all logging messages?"
   ]
  },
  {
   "cell_type": "markdown",
   "id": "6383ae94",
   "metadata": {},
   "source": [
    "## Ans: "
   ]
  },
  {
   "cell_type": "markdown",
   "id": "e82b4855",
   "metadata": {},
   "source": [
    "logging.disable(level)"
   ]
  },
  {
   "cell_type": "markdown",
   "id": "9623cb58",
   "metadata": {},
   "source": [
    "## 8.Why is using logging messages better than using print() to display the same message?"
   ]
  },
  {
   "cell_type": "markdown",
   "id": "8fb6fdd3",
   "metadata": {},
   "source": [
    "## Ans: "
   ]
  },
  {
   "cell_type": "markdown",
   "id": "565c8827",
   "metadata": {},
   "source": [
    "It helps to see where and when a logging call is being made from. You can selectively disable lower-level logging messages. You can create logging messages. Logging messages provides a timestamp.\n",
    "we can differentiate logging based on severity.\n",
    "print does not have any of them."
   ]
  },
  {
   "cell_type": "markdown",
   "id": "d7633aad",
   "metadata": {},
   "source": [
    "## 9. What are the differences between the Step Over, Step In, and Step Out buttons in the debugger?"
   ]
  },
  {
   "cell_type": "markdown",
   "id": "fe1ff441",
   "metadata": {},
   "source": [
    "## Ans: "
   ]
  },
  {
   "cell_type": "markdown",
   "id": "d268cdc9",
   "metadata": {},
   "source": [
    "Step In will dig into method calls.\n",
    "Step Over will just execute the line and go to the next line.\n",
    "Step Out Steps out of the current method and takes you to the caller method."
   ]
  },
  {
   "cell_type": "markdown",
   "id": "7f23ab55",
   "metadata": {},
   "source": [
    "## 10.After you click Continue, when will the debugger stop ?"
   ]
  },
  {
   "cell_type": "markdown",
   "id": "f3e73c67",
   "metadata": {},
   "source": [
    "## Ans: "
   ]
  },
  {
   "cell_type": "markdown",
   "id": "8f1e3eba",
   "metadata": {},
   "source": [
    "the debugger will stop when it has reached the end of a program or a breakpoint"
   ]
  },
  {
   "cell_type": "markdown",
   "id": "428dace6",
   "metadata": {},
   "source": [
    "## 11. What is the concept of a breakpoint?"
   ]
  },
  {
   "cell_type": "markdown",
   "id": "daefa255",
   "metadata": {},
   "source": [
    "## Ans: "
   ]
  },
  {
   "cell_type": "markdown",
   "id": "a8487021",
   "metadata": {},
   "source": [
    "A breakpoint is a setting on a line of code that causes the debugger to pause when the program execution reaches the line."
   ]
  }
 ],
 "metadata": {
  "kernelspec": {
   "display_name": "Python 3 (ipykernel)",
   "language": "python",
   "name": "python3"
  },
  "language_info": {
   "codemirror_mode": {
    "name": "ipython",
    "version": 3
   },
   "file_extension": ".py",
   "mimetype": "text/x-python",
   "name": "python",
   "nbconvert_exporter": "python",
   "pygments_lexer": "ipython3",
   "version": "3.9.7"
  }
 },
 "nbformat": 4,
 "nbformat_minor": 5
}
