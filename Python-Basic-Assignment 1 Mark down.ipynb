{
 "cells": [
  {
   "cell_type": "markdown",
   "id": "0876df56",
   "metadata": {},
   "source": [
    "1. In the below elements which of them are values or an expression? eg:- values can be integer or string and expressions will be mathematical operators.\n",
    "* \n",
    "'hello'\n",
    "-87.8\n",
    "- \n",
    "/ \n",
    "+\t\n",
    "6 \n",
    "\n",
    "Ans:In the above elements  *       is an expression\n",
    "                           'hello' is a Value\n",
    "                           -87.8   is a Value\n",
    "                           -       is an expression\n",
    "                           /       is an expression\n",
    "                           +   \t   is an expression\n",
    "                           6       is a Value"
   ]
  },
  {
   "cell_type": "markdown",
   "id": "f8b8ed0d",
   "metadata": {},
   "source": [
    "2. What is the difference between string and variable?\n",
    "Ans: String is a datatype wheras the variable is the memory location that stores the data.String is usually represented in double quotes(\"\") or else single quotes('').Anything that is enclosed in these quotes represents a string.\n",
    "Variable can contain numbers,alphabets and underscores.It should not contain spaces and the name of the variable cant be started with a number.Variable can store the value of any data type(Ex:String,list,set,tuple)\n",
    "Ex:String=\"aish\"\n",
    " Variable = abc=10, Here abc is a variable which stores the value 10."
   ]
  },
  {
   "cell_type": "markdown",
   "id": "c76f6af8",
   "metadata": {},
   "source": [
    "3. Describe three different data types.\n",
    "Ans:Three data types: string,list,tuple\n",
    "       1. String:Set of characters usually enclosed in double quotes(\"\") or else single quotes('').\n",
    "            Ex:\"This is my first assignment\"\n",
    "       2. List : Values seperated by commas enclosed in square brackets.Values can be integers,strings,complex numbers etc.Lists  are mutable.\n",
    "            Ex:[1,2,3,4,\"abc\",9+8j]\n",
    "       3. Tuple: Values seperated by commas enclosed in parentheses.Tuples are immutable.    \n",
    "            Ex:(1,2,3,44,55,\"abv\")"
   ]
  },
  {
   "cell_type": "markdown",
   "id": "c761124e",
   "metadata": {},
   "source": [
    "4. What is an expression made up of? What do all expressions do?\n",
    "Ans:An expression is a combination of numbers/values,variables and mathematical operators,which together evaluates another value.\n",
    " Ex: a=12+13 gives 25.Here a is a variable,12 &13 are values and + is operator.They together gave the value as 25."
   ]
  },
  {
   "cell_type": "markdown",
   "id": "691d5385",
   "metadata": {},
   "source": [
    "5. This assignment statements, like spam = 10. What is the difference between an expression and a statement?\n",
    "Ans: Assignment statements assign a value to the variable.In spam = 10 , value 10 in assigned to spam, and now spam will have value 10.\n",
    "\n",
    "An Expression gives some value by performing some operations with operators and values.\n",
    "    Ex: i=24*8 gives 192.\n",
    "    \n",
    "    A statement is an instruction given to the python to execute.\n",
    "    print(\"Hi\")\n"
   ]
  },
  {
   "cell_type": "markdown",
   "id": "900985b9",
   "metadata": {},
   "source": [
    "6. After running the following code, what does the variable bacon contain?\n",
    "bacon = 22\n",
    "bacon + 1\n",
    "Ans:The value of the bacon remains same because bacon+1 is not reassigned to bacon again(becon= becon + 1)."
   ]
  },
  {
   "cell_type": "markdown",
   "id": "5335ce78",
   "metadata": {},
   "source": [
    "7. What should the values of the following two terms be?\n",
    "'spam' + 'spamspam'\n",
    "'spam' * 3\n",
    "Ans:'spam'+'spamspam' gives 'spamspamspam'\n",
    "     'spam'*3 gives 'spamspamspam'\n",
    "     Both the expression gives same result 'spamspamspam'"
   ]
  },
  {
   "cell_type": "markdown",
   "id": "10d83a80",
   "metadata": {},
   "source": [
    "8. Why is eggs a valid variable name while 100 is invalid?\n",
    "Ans: eggs is a valid variable name because it contain all alphabets which is allowable. 100 is a invalid variable name because variable name cannot start with a number."
   ]
  },
  {
   "cell_type": "markdown",
   "id": "9c3a4f15",
   "metadata": {},
   "source": [
    "9. What three functions can be used to get the integer, floating-point number, or string version of a value?\n",
    "\n",
    "Ans: Function used to get the integer version of a value:int()\n",
    "    Function used to get the floating-point number version of a value:float()\n",
    "    Function used to get the string version of a value:str()"
   ]
  },
  {
   "cell_type": "markdown",
   "id": "c36e5bc2",
   "metadata": {},
   "source": [
    "10. Why does this expression cause an error? How can you fix it?\n",
    "'I have eaten ' + 99 + ' burritos.\n",
    "Ans: It causes an error because strings can't be concatinated with integer.In order to fix this issue we have to convert 99 to string.\n",
    "'I have eaten ' + str(99) + ' burritos.'\n",
    "This can be done in another way also.I.e, by adding double quotes to 99.\n",
    "'I have eaten ' + \"99\" + ' burritos.'\n"
   ]
  },
  {
   "cell_type": "code",
   "execution_count": null,
   "id": "5840afa7",
   "metadata": {},
   "outputs": [],
   "source": []
  }
 ],
 "metadata": {
  "kernelspec": {
   "display_name": "Python 3 (ipykernel)",
   "language": "python",
   "name": "python3"
  },
  "language_info": {
   "codemirror_mode": {
    "name": "ipython",
    "version": 3
   },
   "file_extension": ".py",
   "mimetype": "text/x-python",
   "name": "python",
   "nbconvert_exporter": "python",
   "pygments_lexer": "ipython3",
   "version": "3.9.7"
  }
 },
 "nbformat": 4,
 "nbformat_minor": 5
}
