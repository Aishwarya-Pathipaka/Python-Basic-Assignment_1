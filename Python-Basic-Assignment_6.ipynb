{
 "cells": [
  {
   "cell_type": "markdown",
   "id": "856f3a1a",
   "metadata": {},
   "source": [
    "## 1. What are escape characters, and how do you use them?"
   ]
  },
  {
   "cell_type": "markdown",
   "id": "a2b33621",
   "metadata": {},
   "source": [
    "## Ans:\n",
    "\n",
    "In Python strings, the backslash \"\\\" is a special character, also called the \"escape\" character. It is used in representing certain whitespace characters: \"\\t\" is a tab, \"\\n\" is a newline, and \"\\r\" is a carriage return.prefixing a special character with \"\\\" turns it into an ordinary character. This is called \"escaping\"."
   ]
  },
  {
   "cell_type": "code",
   "execution_count": 1,
   "id": "c2b60a99",
   "metadata": {},
   "outputs": [
    {
     "name": "stdout",
     "output_type": "stream",
     "text": [
      "that's okay\n",
      "that's okay\n"
     ]
    }
   ],
   "source": [
    "print(\"that's okay\")\n",
    "#above sentence can be reperesented using escape charecter as\n",
    "print('that\\'s okay')"
   ]
  },
  {
   "cell_type": "markdown",
   "id": "9fd4c811",
   "metadata": {},
   "source": [
    "## 2. What do the escape characters n and t stand for?"
   ]
  },
  {
   "cell_type": "markdown",
   "id": "e63393ca",
   "metadata": {},
   "source": [
    "## Ans:\n",
    "\\n : New line escape character\n",
    "\n",
    "\\t : Tab space escape character"
   ]
  },
  {
   "cell_type": "markdown",
   "id": "735019db",
   "metadata": {},
   "source": [
    "## 3. What is the way to include backslash characters in a string?"
   ]
  },
  {
   "cell_type": "markdown",
   "id": "3a14f336",
   "metadata": {},
   "source": [
    "## Ans:\n",
    "A blackslash character can be introduced with double blackslash characters."
   ]
  },
  {
   "cell_type": "code",
   "execution_count": 2,
   "id": "1aafc852",
   "metadata": {},
   "outputs": [
    {
     "name": "stdout",
     "output_type": "stream",
     "text": [
      "You eat apple\\ orange?\n"
     ]
    }
   ],
   "source": [
    "print(\"You eat apple\\\\ orange?\")"
   ]
  },
  {
   "cell_type": "markdown",
   "id": "711091fb",
   "metadata": {},
   "source": [
    "## 4. The string \"Howl's Moving Castle\" is a correct value. Why isn't the single quote character in the word Howl's not escaped a problem?"
   ]
  },
  {
   "cell_type": "markdown",
   "id": "f83b3da0",
   "metadata": {},
   "source": [
    "## Ans:\n",
    "The single quote in Howl's is fine because you've used double quotes to mark the beginning and end of the string. \n",
    "Vice versa we can use double quotes in with single quotes."
   ]
  },
  {
   "cell_type": "code",
   "execution_count": 3,
   "id": "ccb2b4c5",
   "metadata": {},
   "outputs": [
    {
     "name": "stdout",
     "output_type": "stream",
     "text": [
      "Howl's Moving Castle\n"
     ]
    }
   ],
   "source": [
    "print(\"Howl's Moving Castle\")"
   ]
  },
  {
   "cell_type": "code",
   "execution_count": 4,
   "id": "d0c55fc2",
   "metadata": {},
   "outputs": [
    {
     "name": "stdout",
     "output_type": "stream",
     "text": [
      "Howl\"s Moving Castle\n"
     ]
    }
   ],
   "source": [
    "#Viceversa\n",
    "print('Howl\"s Moving Castle')"
   ]
  },
  {
   "cell_type": "markdown",
   "id": "0c3ec732",
   "metadata": {},
   "source": [
    "## 5. How do you write a string of newlines if you don't want to use the n character?"
   ]
  },
  {
   "cell_type": "markdown",
   "id": "1c068f85",
   "metadata": {},
   "source": [
    "## Ans:\n",
    "we can use the parameter end ='\\n' in print function"
   ]
  },
  {
   "cell_type": "code",
   "execution_count": 5,
   "id": "6fd71293",
   "metadata": {},
   "outputs": [
    {
     "name": "stdout",
     "output_type": "stream",
     "text": [
      "printing something in multiple lines\n",
      "newline\n"
     ]
    }
   ],
   "source": [
    "print(\"printing something in multiple lines\",end = '\\n')\n",
    "print(\"newline\")"
   ]
  },
  {
   "cell_type": "markdown",
   "id": "cd0f7924",
   "metadata": {},
   "source": [
    "## 6. What are the values of the given expressions?\n",
    "## 'Hello, world!'[1]\n",
    "## 'Hello, world!'[0:5]\n",
    "## 'Hello, world!'[:5]\n",
    "## 'Hello, world!'[3:]"
   ]
  },
  {
   "cell_type": "markdown",
   "id": "05b41d9a",
   "metadata": {},
   "source": [
    "## Ans:"
   ]
  },
  {
   "cell_type": "code",
   "execution_count": 6,
   "id": "221ff6ca",
   "metadata": {},
   "outputs": [
    {
     "data": {
      "text/plain": [
       "'e'"
      ]
     },
     "execution_count": 6,
     "metadata": {},
     "output_type": "execute_result"
    }
   ],
   "source": [
    "'Hello, world!'[1]"
   ]
  },
  {
   "cell_type": "code",
   "execution_count": 7,
   "id": "db613873",
   "metadata": {},
   "outputs": [
    {
     "data": {
      "text/plain": [
       "'Hello'"
      ]
     },
     "execution_count": 7,
     "metadata": {},
     "output_type": "execute_result"
    }
   ],
   "source": [
    "'Hello, world!'[0:5]"
   ]
  },
  {
   "cell_type": "code",
   "execution_count": 8,
   "id": "2dc56d16",
   "metadata": {},
   "outputs": [
    {
     "data": {
      "text/plain": [
       "'Hello'"
      ]
     },
     "execution_count": 8,
     "metadata": {},
     "output_type": "execute_result"
    }
   ],
   "source": [
    "'Hello, world!'[:5]"
   ]
  },
  {
   "cell_type": "code",
   "execution_count": 9,
   "id": "ce9aafa1",
   "metadata": {},
   "outputs": [
    {
     "data": {
      "text/plain": [
       "'lo, world!'"
      ]
     },
     "execution_count": 9,
     "metadata": {},
     "output_type": "execute_result"
    }
   ],
   "source": [
    "'Hello, world!'[3:]"
   ]
  },
  {
   "cell_type": "markdown",
   "id": "dd406280",
   "metadata": {},
   "source": [
    "## 7. What are the values of the following expressions?\n",
    "## 'Hello'.upper()\n",
    "## 'Hello'.upper().isupper()\n",
    "## 'Hello'.upper().lower()"
   ]
  },
  {
   "cell_type": "markdown",
   "id": "a8662a4d",
   "metadata": {},
   "source": [
    "## Ans:"
   ]
  },
  {
   "cell_type": "code",
   "execution_count": 10,
   "id": "90a14a62",
   "metadata": {},
   "outputs": [
    {
     "data": {
      "text/plain": [
       "'HELLO'"
      ]
     },
     "execution_count": 10,
     "metadata": {},
     "output_type": "execute_result"
    }
   ],
   "source": [
    "'Hello'.upper()"
   ]
  },
  {
   "cell_type": "code",
   "execution_count": 11,
   "id": "e5defc09",
   "metadata": {},
   "outputs": [
    {
     "data": {
      "text/plain": [
       "True"
      ]
     },
     "execution_count": 11,
     "metadata": {},
     "output_type": "execute_result"
    }
   ],
   "source": [
    "'Hello'.upper().isupper()"
   ]
  },
  {
   "cell_type": "code",
   "execution_count": 12,
   "id": "31c5e383",
   "metadata": {},
   "outputs": [
    {
     "data": {
      "text/plain": [
       "'hello'"
      ]
     },
     "execution_count": 12,
     "metadata": {},
     "output_type": "execute_result"
    }
   ],
   "source": [
    "'Hello'.upper().lower()"
   ]
  },
  {
   "cell_type": "markdown",
   "id": "865ba244",
   "metadata": {},
   "source": [
    "## 8. What are the values of the following expressions?"
   ]
  },
  {
   "cell_type": "markdown",
   "id": "a7ea8451",
   "metadata": {},
   "source": [
    "## 'Remember, remember, the fifth of July.'.split()\n",
    "## '-'.join('There can only one.'.split())"
   ]
  },
  {
   "cell_type": "markdown",
   "id": "c5c09821",
   "metadata": {},
   "source": [
    "## Ans:"
   ]
  },
  {
   "cell_type": "code",
   "execution_count": 13,
   "id": "fadccce5",
   "metadata": {},
   "outputs": [
    {
     "data": {
      "text/plain": [
       "['Remember,', 'remember,', 'the', 'fifth', 'of', 'July.']"
      ]
     },
     "execution_count": 13,
     "metadata": {},
     "output_type": "execute_result"
    }
   ],
   "source": [
    "'Remember, remember, the fifth of July.'.split()"
   ]
  },
  {
   "cell_type": "code",
   "execution_count": 14,
   "id": "0a2e5080",
   "metadata": {},
   "outputs": [
    {
     "data": {
      "text/plain": [
       "'There-can-only-one.'"
      ]
     },
     "execution_count": 14,
     "metadata": {},
     "output_type": "execute_result"
    }
   ],
   "source": [
    "'-'.join('There can only one.'.split())"
   ]
  },
  {
   "cell_type": "markdown",
   "id": "db100d56",
   "metadata": {},
   "source": [
    "## 9. What are the methods for right-justifying, left-justifying, and centering a string?"
   ]
  },
  {
   "cell_type": "markdown",
   "id": "11a7159f",
   "metadata": {},
   "source": [
    "## Ans:\n",
    "    \n",
    "Methods are used for justifying strings\n",
    "rjust()\n",
    "ljust()\n",
    "center()"
   ]
  },
  {
   "cell_type": "code",
   "execution_count": 15,
   "id": "51c43c42",
   "metadata": {},
   "outputs": [
    {
     "data": {
      "text/plain": [
       "'%%%%%%%%%%%%%%%aishu'"
      ]
     },
     "execution_count": 15,
     "metadata": {},
     "output_type": "execute_result"
    }
   ],
   "source": [
    "#right-justifying\n",
    "a=(\"aishu\")\n",
    "a.rjust(20,\"%\")"
   ]
  },
  {
   "cell_type": "code",
   "execution_count": 16,
   "id": "d7371767",
   "metadata": {},
   "outputs": [
    {
     "data": {
      "text/plain": [
       "'aishu%%%%%%%%%%%%%%%'"
      ]
     },
     "execution_count": 16,
     "metadata": {},
     "output_type": "execute_result"
    }
   ],
   "source": [
    "#left-justifying\n",
    "a=(\"aishu\")\n",
    "a.ljust(20,\"%\")"
   ]
  },
  {
   "cell_type": "code",
   "execution_count": 17,
   "id": "eb7eca7c",
   "metadata": {},
   "outputs": [
    {
     "data": {
      "text/plain": [
       "'%%%%%%%aishu%%%%%%%%'"
      ]
     },
     "execution_count": 17,
     "metadata": {},
     "output_type": "execute_result"
    }
   ],
   "source": [
    "#centering\n",
    "a=(\"aishu\")\n",
    "a.center(20,\"%\")"
   ]
  },
  {
   "cell_type": "markdown",
   "id": "1daeb085",
   "metadata": {},
   "source": [
    "## 10. What is the best way to remove whitespace characters from the start or end?"
   ]
  },
  {
   "cell_type": "markdown",
   "id": "535766a2",
   "metadata": {},
   "source": [
    "## Ans:\n",
    "\n",
    "    .strip() - removes white spaces from both sides of the string\n",
    "    lstrip() - removes white spaces from left of the string\n",
    "    rstrip() - removes whitespaces from right of the string"
   ]
  },
  {
   "cell_type": "code",
   "execution_count": 18,
   "id": "2e58140c",
   "metadata": {},
   "outputs": [
    {
     "name": "stdout",
     "output_type": "stream",
     "text": [
      "28\n",
      "     I am a good girl       \n"
     ]
    }
   ],
   "source": [
    "k=(\"     I am a good girl       \")\n",
    "print(len(k))\n",
    "print(k)"
   ]
  },
  {
   "cell_type": "code",
   "execution_count": 19,
   "id": "1c05cb9a",
   "metadata": {},
   "outputs": [
    {
     "data": {
      "text/plain": [
       "'I am a good girl'"
      ]
     },
     "execution_count": 19,
     "metadata": {},
     "output_type": "execute_result"
    }
   ],
   "source": [
    "k.strip()"
   ]
  },
  {
   "cell_type": "code",
   "execution_count": null,
   "id": "46401656",
   "metadata": {},
   "outputs": [],
   "source": []
  }
 ],
 "metadata": {
  "kernelspec": {
   "display_name": "Python 3 (ipykernel)",
   "language": "python",
   "name": "python3"
  },
  "language_info": {
   "codemirror_mode": {
    "name": "ipython",
    "version": 3
   },
   "file_extension": ".py",
   "mimetype": "text/x-python",
   "name": "python",
   "nbconvert_exporter": "python",
   "pygments_lexer": "ipython3",
   "version": "3.9.7"
  }
 },
 "nbformat": 4,
 "nbformat_minor": 5
}
