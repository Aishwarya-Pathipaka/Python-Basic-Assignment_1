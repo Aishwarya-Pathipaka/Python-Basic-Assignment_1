{
 "cells": [
  {
   "cell_type": "markdown",
   "id": "7ae1cd73",
   "metadata": {},
   "source": [
    "## 1. Why are functions advantageous to have in your programs?"
   ]
  },
  {
   "cell_type": "markdown",
   "id": "253de8bf",
   "metadata": {},
   "source": [
    "## Ans:\n",
    "   The advantages of using functions are:\n",
    "    Functions Avoid repetition of codes.They increases program readability and modularity,divide a complex problem into simpler ones,Reduces chances of error.This makes programs shorter, easier to read, and easier to update. Modifying a program becomes easier by using function.\n",
    "   "
   ]
  },
  {
   "cell_type": "markdown",
   "id": "d6cfe33b",
   "metadata": {},
   "source": [
    "## 2. When does the code in a function run: when it's specified or when it's called?"
   ]
  },
  {
   "cell_type": "markdown",
   "id": "fcfb8db8",
   "metadata": {},
   "source": [
    "## Ans:  \n",
    "     The code in a function executes when the function is called, not when the function is defined.\n"
   ]
  },
  {
   "cell_type": "markdown",
   "id": "a085a32b",
   "metadata": {},
   "source": [
    "## 3. What statement creates a function?"
   ]
  },
  {
   "cell_type": "markdown",
   "id": "e199780e",
   "metadata": {},
   "source": [
    "## Ans:  \n",
    " A Function can be defined using the def keyword in the following format:\n",
    "\n",
    "def funct_name(parameters):"
   ]
  },
  {
   "cell_type": "markdown",
   "id": "f020c8fb",
   "metadata": {},
   "source": [
    "## 4. What is the difference between a function and a function call?"
   ]
  },
  {
   "cell_type": "markdown",
   "id": "bf887bcb",
   "metadata": {},
   "source": [
    "## Ans:  \n",
    "A function : is a block of code that does a particular operation and returns a result. It usually accepts inputs as \n",
    "parameters and returns a result.  \n",
    "A Function call : is the code used to pass control to a function"
   ]
  },
  {
   "cell_type": "markdown",
   "id": "36674e35",
   "metadata": {},
   "source": [
    "## 5. How many global scopes are there in a Python program? How many local scopes?"
   ]
  },
  {
   "cell_type": "markdown",
   "id": "562c0cef",
   "metadata": {},
   "source": [
    "## Ans:  \n",
    "We have only 1 global scope variable for a program and can have many local scope variables as per the number of functions we have defined.\n",
    "\n"
   ]
  },
  {
   "cell_type": "markdown",
   "id": "e7ed8a0f",
   "metadata": {},
   "source": [
    "## 6. What happens to variables in a local scope when the function call returns?"
   ]
  },
  {
   "cell_type": "markdown",
   "id": "c1eb299b",
   "metadata": {},
   "source": [
    "## Ans:  \n",
    "When a function returns, the local scope is destroyed, and all the variables in it are forgotten. we will not be able to access the out side the function"
   ]
  },
  {
   "cell_type": "markdown",
   "id": "9964d4ea",
   "metadata": {},
   "source": [
    "## 7. What is the concept of a return value? Is it possible to have a return value in an expression?"
   ]
  },
  {
   "cell_type": "markdown",
   "id": "334ce20f",
   "metadata": {},
   "source": [
    "## Ans:  \n",
    "The return statement is used to return values from the function. Any remaining lines of code block after the return statement are not executed.\n",
    "Yes it possible to have a return value in an expression\n"
   ]
  },
  {
   "cell_type": "code",
   "execution_count": 1,
   "id": "e1e9b722",
   "metadata": {},
   "outputs": [
    {
     "data": {
      "text/plain": [
       "83"
      ]
     },
     "execution_count": 1,
     "metadata": {},
     "output_type": "execute_result"
    }
   ],
   "source": [
    "def addition(a, b):\n",
    "    sum = a + b\n",
    "    return sum  # explicit return statement\n",
    "\n",
    "addition(22, 61)"
   ]
  },
  {
   "cell_type": "markdown",
   "id": "6ceab2a3",
   "metadata": {},
   "source": [
    "## 8. If a function does not have a return statement, what is the return value of a call to that function?"
   ]
  },
  {
   "cell_type": "markdown",
   "id": "f6021db7",
   "metadata": {},
   "source": [
    "## Ans:  \n",
    "If there is no return statement for a function, its return value is None"
   ]
  },
  {
   "cell_type": "markdown",
   "id": "299002c8",
   "metadata": {},
   "source": [
    "## 9. How do you make a function variable refer to the global variable?"
   ]
  },
  {
   "cell_type": "markdown",
   "id": "46230de6",
   "metadata": {},
   "source": [
    "## Ans:  \n",
    "We use global keyword before a variable to tell interpreter inside a function that we are using a global variable.\n",
    "Example : global a\n"
   ]
  },
  {
   "cell_type": "markdown",
   "id": "b686f276",
   "metadata": {},
   "source": [
    "## 10. What is the data type of None?"
   ]
  },
  {
   "cell_type": "markdown",
   "id": "b43208f2",
   "metadata": {},
   "source": [
    "## Ans:  \n",
    "The data type of none is NoneType\n"
   ]
  },
  {
   "cell_type": "markdown",
   "id": "c72c43a0",
   "metadata": {},
   "source": [
    "## 11. What does the sentence import areallyourpetsnamederic do?"
   ]
  },
  {
   "cell_type": "markdown",
   "id": "07a2918e",
   "metadata": {},
   "source": [
    "## Ans:  \n",
    "This statement imports a module areallyourpetsnamederic, but as we see below there is no module named areallyourpetsnamederic in Python.\n",
    "\n"
   ]
  },
  {
   "cell_type": "code",
   "execution_count": 2,
   "id": "dd0e6370",
   "metadata": {},
   "outputs": [
    {
     "ename": "ModuleNotFoundError",
     "evalue": "No module named 'areallyourpetsnamederic'",
     "output_type": "error",
     "traceback": [
      "\u001b[1;31m---------------------------------------------------------------------------\u001b[0m",
      "\u001b[1;31mModuleNotFoundError\u001b[0m                       Traceback (most recent call last)",
      "\u001b[1;32mC:\\Users\\AISHWA~1\\AppData\\Local\\Temp/ipykernel_20572/51184242.py\u001b[0m in \u001b[0;36m<module>\u001b[1;34m\u001b[0m\n\u001b[1;32m----> 1\u001b[1;33m \u001b[1;32mimport\u001b[0m \u001b[0mareallyourpetsnamederic\u001b[0m\u001b[1;33m\u001b[0m\u001b[1;33m\u001b[0m\u001b[0m\n\u001b[0m",
      "\u001b[1;31mModuleNotFoundError\u001b[0m: No module named 'areallyourpetsnamederic'"
     ]
    }
   ],
   "source": [
    "import areallyourpetsnamederic"
   ]
  },
  {
   "cell_type": "markdown",
   "id": "c2f9f035",
   "metadata": {},
   "source": [
    "## 12. If you had a bacon() feature in a spam module, what would you call it after importing spam?"
   ]
  },
  {
   "cell_type": "markdown",
   "id": "73287961",
   "metadata": {},
   "source": [
    "## Ans:  \n",
    "This function can be called with spam.bacon(). like below\n",
    "\n",
    "    import spam\n",
    "    spam.bacon()"
   ]
  },
  {
   "cell_type": "markdown",
   "id": "cad10963",
   "metadata": {},
   "source": [
    "## 13. What can you do to save a programme from crashing if it encounters an error?"
   ]
  },
  {
   "cell_type": "markdown",
   "id": "c74cb417",
   "metadata": {},
   "source": [
    "## Ans:  \n",
    "We can use try statement to test a code block and if it encounters an error an except block handles the error which avoids crashing a program.\n",
    "\n"
   ]
  },
  {
   "cell_type": "markdown",
   "id": "08f5c086",
   "metadata": {},
   "source": [
    "## 14. What is the purpose of the try clause? What is the purpose of the except clause?"
   ]
  },
  {
   "cell_type": "markdown",
   "id": "b1d5adb6",
   "metadata": {},
   "source": [
    "## Ans:  \n",
    "The code block that can cause an error is handled with try/except clause without crashing of program.\n",
    "\n",
    "If try block does not execute successfully the program will run except block."
   ]
  },
  {
   "cell_type": "code",
   "execution_count": null,
   "id": "60e28acf",
   "metadata": {},
   "outputs": [],
   "source": []
  },
  {
   "cell_type": "code",
   "execution_count": null,
   "id": "9869b7cb",
   "metadata": {},
   "outputs": [],
   "source": []
  }
 ],
 "metadata": {
  "kernelspec": {
   "display_name": "Python 3 (ipykernel)",
   "language": "python",
   "name": "python3"
  },
  "language_info": {
   "codemirror_mode": {
    "name": "ipython",
    "version": 3
   },
   "file_extension": ".py",
   "mimetype": "text/x-python",
   "name": "python",
   "nbconvert_exporter": "python",
   "pygments_lexer": "ipython3",
   "version": "3.9.7"
  }
 },
 "nbformat": 4,
 "nbformat_minor": 5
}
