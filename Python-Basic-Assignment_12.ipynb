{
 "cells": [
  {
   "cell_type": "markdown",
   "id": "33f88b91",
   "metadata": {},
   "source": [
    "## 1. In what modes should the PdfFileReader() and PdfFileWriter() File objects will be opened?"
   ]
  },
  {
   "cell_type": "markdown",
   "id": "f208bad4",
   "metadata": {},
   "source": [
    "## Ans:"
   ]
  },
  {
   "cell_type": "markdown",
   "id": "1b05d84d",
   "metadata": {},
   "source": [
    "Read-binary ('rb') for PdfFileReader() and write-binary ('wb') for PdfFileWriter()"
   ]
  },
  {
   "cell_type": "markdown",
   "id": "2ce9e54f",
   "metadata": {},
   "source": [
    "## 2. From a PdfFileReader object, how do you get a Page object for page 5?"
   ]
  },
  {
   "cell_type": "markdown",
   "id": "91b03396",
   "metadata": {},
   "source": [
    "## Ans:"
   ]
  },
  {
   "cell_type": "markdown",
   "id": "a4045a11",
   "metadata": {},
   "source": [
    "Calling getPage(4) will return a Page object for page 5, since page 0 is the first page."
   ]
  },
  {
   "cell_type": "markdown",
   "id": "3843a533",
   "metadata": {},
   "source": [
    "## 3. What PdfFileReader variable stores the number of pages in the PDF document?"
   ]
  },
  {
   "cell_type": "markdown",
   "id": "1471a067",
   "metadata": {},
   "source": [
    "## Ans:"
   ]
  },
  {
   "cell_type": "markdown",
   "id": "e6f290f7",
   "metadata": {},
   "source": [
    "The numPages variable stores an integer of the number of pages in the PdfFileReader object."
   ]
  },
  {
   "cell_type": "markdown",
   "id": "247eb296",
   "metadata": {},
   "source": [
    "## 4. If a PdfFileReader object’s PDF is encrypted with the password swordfish, what must you do before you can obtain Page objects from it?"
   ]
  },
  {
   "cell_type": "markdown",
   "id": "3819c04a",
   "metadata": {},
   "source": [
    "## Ans:"
   ]
  },
  {
   "cell_type": "markdown",
   "id": "d49e531c",
   "metadata": {},
   "source": [
    "obj.decrypt(\"swordfish\")"
   ]
  },
  {
   "cell_type": "markdown",
   "id": "c8fc0f75",
   "metadata": {},
   "source": [
    "## 5. What methods do you use to rotate a page?"
   ]
  },
  {
   "cell_type": "markdown",
   "id": "029cc9ce",
   "metadata": {},
   "source": [
    "## Ans:"
   ]
  },
  {
   "cell_type": "markdown",
   "id": "9127f65c",
   "metadata": {},
   "source": [
    "The rotateClockwise() and rotateCounterClockwise() methods. The degrees to rotate is passed as an integer argument."
   ]
  },
  {
   "cell_type": "markdown",
   "id": "8b4ebc02",
   "metadata": {},
   "source": [
    "## 6. What is the difference between a Run object and a Paragraph object?"
   ]
  },
  {
   "cell_type": "markdown",
   "id": "10ea9d07",
   "metadata": {},
   "source": [
    "## Ans:"
   ]
  },
  {
   "cell_type": "markdown",
   "id": "ac68e2ab",
   "metadata": {},
   "source": [
    "paragraps object is needed to get paragraph from a document, runs object is needed whenever text style changes in a paragraph."
   ]
  },
  {
   "cell_type": "markdown",
   "id": "db06d3fa",
   "metadata": {},
   "source": [
    "## 7. How do you obtain a list of Paragraph objects for a Document object that’s stored in a variablennamed doc?"
   ]
  },
  {
   "cell_type": "markdown",
   "id": "f0f31d05",
   "metadata": {},
   "source": [
    "## Ans:"
   ]
  },
  {
   "cell_type": "markdown",
   "id": "3ac69f94",
   "metadata": {},
   "source": [
    "doc.paragraphs"
   ]
  },
  {
   "cell_type": "markdown",
   "id": "67a9071c",
   "metadata": {},
   "source": [
    "## 8. What type of object has bold, underline, italic, strike, and outline variables?"
   ]
  },
  {
   "cell_type": "markdown",
   "id": "a4b68041",
   "metadata": {},
   "source": [
    "## Ans:"
   ]
  },
  {
   "cell_type": "markdown",
   "id": "11aecc67",
   "metadata": {},
   "source": [
    "A Run object has these variables."
   ]
  },
  {
   "cell_type": "markdown",
   "id": "5772cb3f",
   "metadata": {},
   "source": [
    "## 9. What is the difference between False, True, and None for the bold variable?"
   ]
  },
  {
   "cell_type": "markdown",
   "id": "7017579d",
   "metadata": {},
   "source": [
    "## Ans:"
   ]
  },
  {
   "cell_type": "markdown",
   "id": "71e9925b",
   "metadata": {},
   "source": [
    "True = bold is always enabled no matter what other styles are applied to the run, \n",
    "False = bold is always disabled,\n",
    "None = defaults to whatever the run's style set to"
   ]
  },
  {
   "cell_type": "markdown",
   "id": "115fcfed",
   "metadata": {},
   "source": [
    "## 10. How do you create a Document object for a new Word document?"
   ]
  },
  {
   "cell_type": "markdown",
   "id": "5ba72a8d",
   "metadata": {},
   "source": [
    "## Ans:"
   ]
  },
  {
   "cell_type": "markdown",
   "id": "fa6f4e62",
   "metadata": {},
   "source": [
    "import docx\n",
    "doc=docx.Document(.docx file name)"
   ]
  },
  {
   "cell_type": "markdown",
   "id": "b1c6c905",
   "metadata": {},
   "source": [
    "## 11.How do you add a paragraph with the text 'Hello, there!' to a Document object stored in a variable named doc?"
   ]
  },
  {
   "cell_type": "markdown",
   "id": "aef358b5",
   "metadata": {},
   "source": [
    "## Ans:"
   ]
  },
  {
   "cell_type": "markdown",
   "id": "49164ebc",
   "metadata": {},
   "source": [
    "doc.add_paragraph('Hello there!')"
   ]
  },
  {
   "cell_type": "markdown",
   "id": "2feb522c",
   "metadata": {},
   "source": [
    "## 12. What integers represent the levels of headings available in Word documents?"
   ]
  },
  {
   "cell_type": "markdown",
   "id": "e36ad4f9",
   "metadata": {},
   "source": [
    "## Ans:"
   ]
  },
  {
   "cell_type": "markdown",
   "id": "4c0881bc",
   "metadata": {},
   "source": [
    "The integers 0, 1, 2, 3, and 4"
   ]
  }
 ],
 "metadata": {
  "kernelspec": {
   "display_name": "Python 3 (ipykernel)",
   "language": "python",
   "name": "python3"
  },
  "language_info": {
   "codemirror_mode": {
    "name": "ipython",
    "version": 3
   },
   "file_extension": ".py",
   "mimetype": "text/x-python",
   "name": "python",
   "nbconvert_exporter": "python",
   "pygments_lexer": "ipython3",
   "version": "3.9.7"
  }
 },
 "nbformat": 4,
 "nbformat_minor": 5
}
