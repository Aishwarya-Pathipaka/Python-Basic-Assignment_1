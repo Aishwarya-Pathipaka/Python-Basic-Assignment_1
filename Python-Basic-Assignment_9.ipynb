{
 "cells": [
  {
   "cell_type": "markdown",
   "id": "4e30bf0b",
   "metadata": {},
   "source": [
    "## 1. To what does a relative path refer?"
   ]
  },
  {
   "cell_type": "markdown",
   "id": "2299109a",
   "metadata": {},
   "source": [
    "## Ans:"
   ]
  },
  {
   "cell_type": "markdown",
   "id": "3d4e2232",
   "metadata": {},
   "source": [
    "Relative paths are relative to the current working directory. When using relative path, we need to provide the absolute/complete path of file from the root directory, instead we can give the partial/relative path to indicate the file location."
   ]
  },
  {
   "cell_type": "markdown",
   "id": "bc8c832a",
   "metadata": {},
   "source": [
    "## 2. What does an absolute path start with your operating system?"
   ]
  },
  {
   "cell_type": "markdown",
   "id": "f1eb2c5b",
   "metadata": {},
   "source": [
    "## Ans:"
   ]
  },
  {
   "cell_type": "markdown",
   "id": "2737565c",
   "metadata": {},
   "source": [
    " My absolute path starts with C:\\"
   ]
  },
  {
   "cell_type": "markdown",
   "id": "844b963b",
   "metadata": {},
   "source": [
    "## 3. What do the functions os.getcwd() and os.chdir() do?"
   ]
  },
  {
   "cell_type": "markdown",
   "id": "c586fbdc",
   "metadata": {},
   "source": [
    "## Ans:"
   ]
  },
  {
   "cell_type": "markdown",
   "id": "5c7bd9f6",
   "metadata": {},
   "source": [
    "os.getcwd() returns you the current working directory path"
   ]
  },
  {
   "cell_type": "code",
   "execution_count": 1,
   "id": "c1eb09ba",
   "metadata": {},
   "outputs": [
    {
     "data": {
      "text/plain": [
       "'C:\\\\Users\\\\Aishwarya'"
      ]
     },
     "execution_count": 1,
     "metadata": {},
     "output_type": "execute_result"
    }
   ],
   "source": [
    "import os\n",
    "os.getcwd()"
   ]
  },
  {
   "cell_type": "markdown",
   "id": "fa247230",
   "metadata": {},
   "source": [
    "os.chdir() is used to change the current working directory while running the program"
   ]
  },
  {
   "cell_type": "markdown",
   "id": "7b813827",
   "metadata": {},
   "source": [
    "## 4. What are the . and .. folders?"
   ]
  },
  {
   "cell_type": "markdown",
   "id": "a15c8a0f",
   "metadata": {},
   "source": [
    "## Ans:"
   ]
  },
  {
   "cell_type": "markdown",
   "id": "a2f9da5d",
   "metadata": {},
   "source": [
    ". single dot means the current folder\n",
    ".. double dot means the parent folder"
   ]
  },
  {
   "cell_type": "markdown",
   "id": "e5b63921",
   "metadata": {},
   "source": [
    "## 5. In C:\\bacon\\eggs\\spam.txt, which part is the dir name, and which part is the base name?"
   ]
  },
  {
   "cell_type": "markdown",
   "id": "c2bfbac5",
   "metadata": {},
   "source": [
    "## Ans:"
   ]
  },
  {
   "cell_type": "markdown",
   "id": "c9bfaa3f",
   "metadata": {},
   "source": [
    "C:\\bacon\\eggs is the dir name\n",
    "spam.txt is the base name"
   ]
  },
  {
   "cell_type": "markdown",
   "id": "549100e0",
   "metadata": {},
   "source": [
    "## 6. What are the three “mode” arguments that can be passed to the open() function?"
   ]
  },
  {
   "cell_type": "markdown",
   "id": "ef9a3946",
   "metadata": {},
   "source": [
    "## Ans:"
   ]
  },
  {
   "cell_type": "markdown",
   "id": "4a36b6db",
   "metadata": {},
   "source": [
    "The three mode arguments that can be passed to the open() function are:\n",
    "\n",
    "'r' for read mode\n",
    "'w' for write mode\n",
    "'a' for append mode.\n"
   ]
  },
  {
   "cell_type": "markdown",
   "id": "4252bf1f",
   "metadata": {},
   "source": [
    "## 7. What happens if an existing file is opened in write mode?"
   ]
  },
  {
   "cell_type": "markdown",
   "id": "08ef9b17",
   "metadata": {},
   "source": [
    "## Ans:"
   ]
  },
  {
   "cell_type": "markdown",
   "id": "d18262a9",
   "metadata": {},
   "source": [
    "If an existing file is opened in write mode, then all the existing content from the file is erased and the new content will be added.This might result in loss of data if you wanted to have both existing and new data to existing in the file\n"
   ]
  },
  {
   "cell_type": "markdown",
   "id": "7e944430",
   "metadata": {},
   "source": [
    "## 8. How do you tell the difference between read() and readlines()?"
   ]
  },
  {
   "cell_type": "markdown",
   "id": "5f964aca",
   "metadata": {},
   "source": [
    "## Ans:"
   ]
  },
  {
   "cell_type": "markdown",
   "id": "6cd73560",
   "metadata": {},
   "source": [
    "The read() method returns the file’s entire contents as a single string value.\n",
    "The readlines() method returns a list of strings, where each string is a line from the file’s contents."
   ]
  },
  {
   "cell_type": "markdown",
   "id": "c0b18ced",
   "metadata": {},
   "source": [
    "## 9. What data structure does a shelf value resemble?"
   ]
  },
  {
   "cell_type": "markdown",
   "id": "349e5b6d",
   "metadata": {},
   "source": [
    "## Ans:"
   ]
  },
  {
   "cell_type": "markdown",
   "id": "31e052d0",
   "metadata": {},
   "source": [
    "A shelf value resembles a dictionary value; it has keys and values, along with keys() and values() methods that work similarly to the dictionary methods of the same names."
   ]
  }
 ],
 "metadata": {
  "kernelspec": {
   "display_name": "Python 3 (ipykernel)",
   "language": "python",
   "name": "python3"
  },
  "language_info": {
   "codemirror_mode": {
    "name": "ipython",
    "version": 3
   },
   "file_extension": ".py",
   "mimetype": "text/x-python",
   "name": "python",
   "nbconvert_exporter": "python",
   "pygments_lexer": "ipython3",
   "version": "3.9.7"
  }
 },
 "nbformat": 4,
 "nbformat_minor": 5
}
