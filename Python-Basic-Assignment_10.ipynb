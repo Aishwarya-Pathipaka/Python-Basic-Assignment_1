{
 "cells": [
  {
   "cell_type": "markdown",
   "id": "efa911df",
   "metadata": {},
   "source": [
    "## 1. How do you distinguish between shutil.copy() and shutil.copytree()?"
   ]
  },
  {
   "cell_type": "markdown",
   "id": "503c63ee",
   "metadata": {},
   "source": [
    "## Ans: "
   ]
  },
  {
   "cell_type": "markdown",
   "id": "ca13dae2",
   "metadata": {},
   "source": [
    "shutil.copytree () method recursively copies an entire directory tree rooted at source (src) to the destination directory.\n",
    "shutil.copy () method in Python is used to copy the content of source file to destination file or directory.\n",
    "The shutil.copy() function will copy a single file, while shutil.copytree() will copy an entire folder, along with all its contents."
   ]
  },
  {
   "cell_type": "markdown",
   "id": "a8b122b0",
   "metadata": {},
   "source": [
    "## 2. What function is used to rename files??"
   ]
  },
  {
   "cell_type": "markdown",
   "id": "21c6d6ec",
   "metadata": {},
   "source": [
    "## Ans: "
   ]
  },
  {
   "cell_type": "markdown",
   "id": "f9220c9d",
   "metadata": {},
   "source": [
    "os.rename(old name,new name)"
   ]
  },
  {
   "cell_type": "markdown",
   "id": "8742e47b",
   "metadata": {},
   "source": [
    "## 3. What is the difference between the delete functions in the send2trash and shutil modules?"
   ]
  },
  {
   "cell_type": "markdown",
   "id": "43f2bffa",
   "metadata": {},
   "source": [
    "## Ans: "
   ]
  },
  {
   "cell_type": "markdown",
   "id": "0700a23c",
   "metadata": {},
   "source": [
    "The send2trash functions will move a file or folder to the recycle bin, but shutil functions will permanently delete files and folders."
   ]
  },
  {
   "cell_type": "markdown",
   "id": "b78c040b",
   "metadata": {},
   "source": [
    "## 4.ZipFile objects have a close() method just like File objects’ close() method. What ZipFile method is\n",
    "equivalent to File objects’ open() method?"
   ]
  },
  {
   "cell_type": "markdown",
   "id": "b8d73c80",
   "metadata": {},
   "source": [
    "## Ans: "
   ]
  },
  {
   "cell_type": "markdown",
   "id": "afe36a04",
   "metadata": {},
   "source": [
    "The zipfile.ZipFile() function is equivalent to the open() function; the first argument is the filename, and the second argument is the mode to open the ZIP file in (read, write, or append)."
   ]
  },
  {
   "cell_type": "markdown",
   "id": "6233dcf5",
   "metadata": {},
   "source": [
    "## 5. Create a programme that searches a folder tree for files with a certain file extension (such as .pdf or .jpg). Copy these files from whatever location they are in to a new folder."
   ]
  },
  {
   "cell_type": "markdown",
   "id": "31a56445",
   "metadata": {},
   "source": [
    "## Ans: "
   ]
  },
  {
   "cell_type": "code",
   "execution_count": 1,
   "id": "f71c4e06",
   "metadata": {},
   "outputs": [],
   "source": [
    "def copyFile(abc,dst,ext):\n",
    "    try:\n",
    "        import os,shutil\n",
    "        for file in os.listdir(abc):\n",
    "            if file.endswith(ext):\n",
    "                shutil.copy(os.path.join(abc,file),dst)\n",
    "        print(f'Files have been successfully copied from {abc} to {dst}')\n",
    "    except Exception as e:\n",
    "        print(e)\n"
   ]
  },
  {
   "cell_type": "code",
   "execution_count": null,
   "id": "952b7196",
   "metadata": {},
   "outputs": [],
   "source": []
  }
 ],
 "metadata": {
  "kernelspec": {
   "display_name": "Python 3 (ipykernel)",
   "language": "python",
   "name": "python3"
  },
  "language_info": {
   "codemirror_mode": {
    "name": "ipython",
    "version": 3
   },
   "file_extension": ".py",
   "mimetype": "text/x-python",
   "name": "python",
   "nbconvert_exporter": "python",
   "pygments_lexer": "ipython3",
   "version": "3.9.7"
  }
 },
 "nbformat": 4,
 "nbformat_minor": 5
}
